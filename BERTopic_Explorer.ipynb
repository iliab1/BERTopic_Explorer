{
 "cells": [
  {
   "cell_type": "markdown",
   "metadata": {
    "id": "view-in-github",
    "colab_type": "text"
   },
   "source": [
    "<a href=\"https://colab.research.google.com/github/iliab1/BERTopic_Explorer/blob/master/BERTopic_Explorer.ipynb\" target=\"_parent\"><img src=\"https://colab.research.google.com/assets/colab-badge.svg\" alt=\"Open In Colab\"/></a>"
   ]
  },
  {
   "cell_type": "markdown",
   "metadata": {
    "id": "a8xyfCIw5O4r"
   },
   "source": [
    "# Install dependencies\n",
    "\n"
   ]
  },
  {
   "cell_type": "code",
   "execution_count": null,
   "metadata": {
    "id": "3SLTEy3m5k-D"
   },
   "outputs": [],
   "source": [
    "!pip install -q streamlit\n",
    "!pip install bertopic\n",
    "!pip install tiktoken openai"
   ]
  },
  {
   "cell_type": "markdown",
   "metadata": {
    "id": "KaquGyZg19Mp"
   },
   "source": [
    "Make sure to restart session in From the top Menu Bar:\n",
    "\n",
    "Runtime → Restart session"
   ]
  },
  {
   "cell_type": "markdown",
   "metadata": {
    "id": "c-LIIQXd6Jrp"
   },
   "source": [
    "Clone repository"
   ]
  },
  {
   "cell_type": "code",
   "execution_count": null,
   "metadata": {
    "id": "eGkWVX-K5ouP"
   },
   "outputs": [],
   "source": [
    "!git clone https://github.com/iliab1/BERTopic_Explorer"
   ]
  },
  {
   "cell_type": "code",
   "execution_count": null,
   "metadata": {
    "id": "S7G558pY5tfp"
   },
   "outputs": [],
   "source": [
    "!npm install localtunnel"
   ]
  },
  {
   "cell_type": "markdown",
   "metadata": {
    "id": "TerkgPqf6OZU"
   },
   "source": [
    "# Run Streamlit App\n",
    "\n"
   ]
  },
  {
   "cell_type": "code",
   "execution_count": null,
   "metadata": {
    "id": "ru0okZJp5u6L"
   },
   "outputs": [],
   "source": [
    "!streamlit run /content/BERTopic_Explorer/main.py &>/content/logs.txt & curl ipv4.icanhazip.com"
   ]
  },
  {
   "cell_type": "markdown",
   "source": [
    "Open tunnel to sreamlit app. The password is the IP address from the previous cell"
   ],
   "metadata": {
    "collapsed": false
   }
  },
  {
   "cell_type": "code",
   "execution_count": null,
   "metadata": {
    "colab": {
     "background_save": true
    },
    "id": "InkwV9735wpk"
   },
   "outputs": [],
   "source": [
    "!npx localtunnel --port 8501"
   ]
  }
 ],
 "metadata": {
  "accelerator": "GPU",
  "colab": {
   "provenance": [],
   "authorship_tag": "ABX9TyObDHX0YiaywealVnOkl+gf",
   "include_colab_link": true
  },
  "kernelspec": {
   "display_name": "Python 3",
   "name": "python3"
  },
  "language_info": {
   "name": "python"
  }
 },
 "nbformat": 4,
 "nbformat_minor": 0
}
